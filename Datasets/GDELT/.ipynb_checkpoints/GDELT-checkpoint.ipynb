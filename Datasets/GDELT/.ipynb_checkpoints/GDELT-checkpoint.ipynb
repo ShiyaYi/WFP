{
 "cells": [
  {
   "cell_type": "markdown",
   "metadata": {},
   "source": [
    "# GDELT"
   ]
  },
  {
   "cell_type": "code",
   "execution_count": 1,
   "metadata": {
    "collapsed": true
   },
   "outputs": [],
   "source": [
    "import numpy as np\n",
    "%matplotlib inline  \n",
    "from matplotlib import pyplot as plt\n",
    "import pandas as pd"
   ]
  },
  {
   "cell_type": "code",
   "execution_count": 76,
   "metadata": {
    "collapsed": false
   },
   "outputs": [],
   "source": [
    "# Build a mapper to convert from event code to event description\n",
    "Event_code = pd.read_csv('CAMEO.eventcodes.txt', sep='\\t')\n",
    "Event_code.head()\n",
    "mapper = {}\n",
    "for i in Event_code.index:\n",
    "    mapper[Event_code.ix[i].CAMEOEVENTCODE]=Event_code.ix[i].EVENTDESCRIPTION"
   ]
  },
  {
   "cell_type": "code",
   "execution_count": 105,
   "metadata": {
    "collapsed": false
   },
   "outputs": [],
   "source": [
    "countries = ['SLE.csv','YEM.csv']\n",
    "for name in countries:\n",
    "    df=pd.read_csv('raw_data/'+name) \n",
    "\n",
    "    # transform in a table with months as columns and events as rows\n",
    "    df=df.pivot(columns='MonthYear',index='EventCode',values='N_events') \n",
    "    df=df.fillna(0)\n",
    "    df=df.reset_index()\n",
    "\n",
    "\n",
    "    # create column with event description\n",
    "    df['EventDescription']=df['EventCode'].apply(lambda x: int(x))\n",
    "    df.EventDescription=df.EventDescription.map(mapper)\n",
    "\n",
    "    # # orders column\n",
    "    df=df.reset_index()\n",
    "    df.index=df.EventCode\n",
    "    df.columns.name = 'index'\n",
    "    columnordered=['EventDescription']\n",
    "    list2=list(df.columns[2:-1])\n",
    "    columnordered.extend(list2)\n",
    "    df=df[columnordered]\n",
    "    df.head()\n",
    "    df.to_csv('clean_data/'+name)"
   ]
  },
  {
   "cell_type": "markdown",
   "metadata": {},
   "source": [
    "# Example: protests in Yemen\n",
    "\n",
    "We plot a timeseries of protests in Yemen"
   ]
  },
  {
   "cell_type": "code",
   "execution_count": 159,
   "metadata": {
    "collapsed": false,
    "scrolled": false
   },
   "outputs": [
    {
     "data": {
      "text/plain": [
       "<matplotlib.axes._subplots.AxesSubplot at 0x114dfbc10>"
      ]
     },
     "execution_count": 159,
     "metadata": {},
     "output_type": "execute_result"
    },
    {
     "data": {
      "image/png": "[encoded data removed]",
      "text/plain": [
       "<matplotlib.figure.Figure at 0x114f7cf90>"
      ]
     },
     "metadata": {},
     "output_type": "display_data"
    }
   ],
   "source": [
    "# open Yemen csv\n",
    "YEM = pd.read_csv('clean_table/YEM.csv')\n",
    "\n",
    "# select events\n",
    "EventDescription ='PROTEST'\n",
    "\n",
    "# plotting\n",
    "months = YEM.columns[2:]\n",
    "toplot=YEM[YEM.EventDescription=='PROTEST'][months].transpose()\n",
    "toplot.index=[pd.to_datetime(x, format='%Y%m') for x in months.tolist()]\n",
    "toplot.plot(title=EventDescription, legend =False)"
   ]
  },
  {
   "cell_type": "code",
   "execution_count": null,
   "metadata": {
    "collapsed": true
   },
   "outputs": [],
   "source": []
  }
 ],
 "metadata": {
  "kernelspec": {
   "display_name": "Python 2",
   "language": "python",
   "name": "python2"
  },
  "language_info": {
   "codemirror_mode": {
    "name": "ipython",
    "version": 2
   },
   "file_extension": ".py",
   "mimetype": "text/x-python",
   "name": "python",
   "nbconvert_exporter": "python",
   "pygments_lexer": "ipython2",
   "version": "2.7.10"
  }
 },
 "nbformat": 4,
 "nbformat_minor": 0
}
