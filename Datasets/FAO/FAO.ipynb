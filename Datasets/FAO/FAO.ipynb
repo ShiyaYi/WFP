{
 "cells": [
  {
   "cell_type": "markdown",
   "metadata": {},
   "source": [
    "# FAO\n",
    "\n",
    "Contains food security data, and livestock data"
   ]
  },
  {
   "cell_type": "code",
   "execution_count": 2,
   "metadata": {
    "collapsed": false
   },
   "outputs": [],
   "source": [
    "import numpy as np\n",
    "from matplotlib import pyplot as plt\n",
    "import pandas as pd\n",
    "%matplotlib inline  "
   ]
  },
  {
   "cell_type": "markdown",
   "metadata": {
    "collapsed": true
   },
   "source": [
    "## Food Security Data\n",
    "\n",
    "Download CSV from http://faostat3.fao.org/download/D/FS/E\n",
    "\n"
   ]
  },
  {
   "cell_type": "code",
   "execution_count": 11,
   "metadata": {
    "collapsed": false
   },
   "outputs": [
    {
     "data": {
      "text/html": [
       "<div>\n",
       "<table border=\"1\" class=\"dataframe\">\n",
       "  <thead>\n",
       "    <tr style=\"text-align: right;\">\n",
       "      <th></th>\n",
       "      <th>﻿Domain Code</th>\n",
       "      <th>Domain</th>\n",
       "      <th>AreaCode</th>\n",
       "      <th>AreaName</th>\n",
       "      <th>ElementCode</th>\n",
       "      <th>ElementName</th>\n",
       "      <th>ItemCode</th>\n",
       "      <th>ItemName</th>\n",
       "      <th>Year</th>\n",
       "      <th>Value</th>\n",
       "      <th>Flag</th>\n",
       "      <th>FlagD</th>\n",
       "    </tr>\n",
       "  </thead>\n",
       "  <tbody>\n",
       "    <tr>\n",
       "      <th>0</th>\n",
       "      <td>FS</td>\n",
       "      <td>Suite of Food Security Indicators</td>\n",
       "      <td>197</td>\n",
       "      <td>Sierra Leone</td>\n",
       "      <td>6121</td>\n",
       "      <td>Value</td>\n",
       "      <td>21004</td>\n",
       "      <td>Prevalence of undernourishment (%) (3-year ave...</td>\n",
       "      <td>2004-2006</td>\n",
       "      <td>39.3</td>\n",
       "      <td>NaN</td>\n",
       "      <td>Official data</td>\n",
       "    </tr>\n",
       "    <tr>\n",
       "      <th>1</th>\n",
       "      <td>FS</td>\n",
       "      <td>Suite of Food Security Indicators</td>\n",
       "      <td>197</td>\n",
       "      <td>Sierra Leone</td>\n",
       "      <td>6121</td>\n",
       "      <td>Value</td>\n",
       "      <td>21004</td>\n",
       "      <td>Prevalence of undernourishment (%) (3-year ave...</td>\n",
       "      <td>2005-2007</td>\n",
       "      <td>37.1</td>\n",
       "      <td>NaN</td>\n",
       "      <td>Official data</td>\n",
       "    </tr>\n",
       "    <tr>\n",
       "      <th>2</th>\n",
       "      <td>FS</td>\n",
       "      <td>Suite of Food Security Indicators</td>\n",
       "      <td>197</td>\n",
       "      <td>Sierra Leone</td>\n",
       "      <td>6121</td>\n",
       "      <td>Value</td>\n",
       "      <td>21004</td>\n",
       "      <td>Prevalence of undernourishment (%) (3-year ave...</td>\n",
       "      <td>2006-2008</td>\n",
       "      <td>34.4</td>\n",
       "      <td>NaN</td>\n",
       "      <td>Official data</td>\n",
       "    </tr>\n",
       "    <tr>\n",
       "      <th>3</th>\n",
       "      <td>FS</td>\n",
       "      <td>Suite of Food Security Indicators</td>\n",
       "      <td>197</td>\n",
       "      <td>Sierra Leone</td>\n",
       "      <td>6121</td>\n",
       "      <td>Value</td>\n",
       "      <td>21004</td>\n",
       "      <td>Prevalence of undernourishment (%) (3-year ave...</td>\n",
       "      <td>2007-2009</td>\n",
       "      <td>32.4</td>\n",
       "      <td>NaN</td>\n",
       "      <td>Official data</td>\n",
       "    </tr>\n",
       "    <tr>\n",
       "      <th>4</th>\n",
       "      <td>FS</td>\n",
       "      <td>Suite of Food Security Indicators</td>\n",
       "      <td>197</td>\n",
       "      <td>Sierra Leone</td>\n",
       "      <td>6121</td>\n",
       "      <td>Value</td>\n",
       "      <td>21004</td>\n",
       "      <td>Prevalence of undernourishment (%) (3-year ave...</td>\n",
       "      <td>2008-2010</td>\n",
       "      <td>30.7</td>\n",
       "      <td>NaN</td>\n",
       "      <td>Official data</td>\n",
       "    </tr>\n",
       "  </tbody>\n",
       "</table>\n",
       "</div>"
      ],
      "text/plain": [
       "  ﻿Domain Code                             Domain  AreaCode      AreaName  \\\n",
       "0           FS  Suite of Food Security Indicators       197  Sierra Leone   \n",
       "1           FS  Suite of Food Security Indicators       197  Sierra Leone   \n",
       "2           FS  Suite of Food Security Indicators       197  Sierra Leone   \n",
       "3           FS  Suite of Food Security Indicators       197  Sierra Leone   \n",
       "4           FS  Suite of Food Security Indicators       197  Sierra Leone   \n",
       "\n",
       "   ElementCode ElementName  ItemCode  \\\n",
       "0         6121       Value     21004   \n",
       "1         6121       Value     21004   \n",
       "2         6121       Value     21004   \n",
       "3         6121       Value     21004   \n",
       "4         6121       Value     21004   \n",
       "\n",
       "                                            ItemName       Year  Value  Flag  \\\n",
       "0  Prevalence of undernourishment (%) (3-year ave...  2004-2006   39.3   NaN   \n",
       "1  Prevalence of undernourishment (%) (3-year ave...  2005-2007   37.1   NaN   \n",
       "2  Prevalence of undernourishment (%) (3-year ave...  2006-2008   34.4   NaN   \n",
       "3  Prevalence of undernourishment (%) (3-year ave...  2007-2009   32.4   NaN   \n",
       "4  Prevalence of undernourishment (%) (3-year ave...  2008-2010   30.7   NaN   \n",
       "\n",
       "           FlagD  \n",
       "0  Official data  \n",
       "1  Official data  \n",
       "2  Official data  \n",
       "3  Official data  \n",
       "4  Official data  "
      ]
     },
     "execution_count": 11,
     "metadata": {},
     "output_type": "execute_result"
    }
   ],
   "source": [
    "FAO_sec=pd.read_csv('data/foodsecurity.csv')\n",
    "FAO_sec.head(5)"
   ]
  },
  {
   "cell_type": "code",
   "execution_count": 5,
   "metadata": {
    "collapsed": false,
    "scrolled": true
   },
   "outputs": [
    {
     "data": {
      "text/plain": [
       "{nan,\n",
       " 'Access to improved sanitation facilities (%)',\n",
       " 'Access to improved water sources (%)',\n",
       " 'Average dietary energy supply adequacy (%) (3-year average)',\n",
       " 'Average protein supply (g/capita/day) (3-year average)',\n",
       " 'Average supply of protein of animal origin (g/capita/day) (3-year average)',\n",
       " 'Average value of food production (constant I$ per person) (3-year average)',\n",
       " 'Cereal import dependency ratio (%) (3-year average)',\n",
       " 'Depth of the food deficit (kcal/capita/day) (3-year average)',\n",
       " 'Domestic food price index (index)',\n",
       " 'Domestic food price volatility (index)',\n",
       " 'Gross domestic product per capita, PPP (constant 2011 international $)',\n",
       " 'Number of people undernourished (millions) (3-year average)',\n",
       " 'Per capita food production variability (I$ per person constant 2004-06)',\n",
       " 'Per capita food supply variability (kcal/capita/day)',\n",
       " 'Percentage of adults who are underweight (%)',\n",
       " 'Percentage of arable land equipped for irrigation (%) (3-year average)',\n",
       " 'Percentage of children under 5 years of age affected by wasting (%)',\n",
       " 'Percentage of children under 5 years of age who are stunted (%)',\n",
       " 'Percentage of children under 5 years of age who are underweight (%)',\n",
       " 'Percentage of paved roads over total roads (%)',\n",
       " 'Political stability and absence of violence/terrorism (index)',\n",
       " 'Prevalence of anaemia among children under 5 years of age (%)',\n",
       " 'Prevalence of anemia among pregnant women (%)',\n",
       " 'Prevalence of food inadequacy (%) (3-year average)',\n",
       " 'Prevalence of iodine deficiency (%)',\n",
       " 'Prevalence of undernourishment (%) (3-year average)',\n",
       " 'Prevalence of vitamin A deficiency in the population (%)',\n",
       " 'Rail-lines density (per 100 square km of land area)',\n",
       " 'Road density (per 100 square km of land area)',\n",
       " 'Share of dietary energy supply derived from cereals, roots and tubers (%) (3-year average)',\n",
       " 'Share of food expenditure of the poor (%)',\n",
       " 'Value of food imports over total merchandise exports (%) (3-year average)'}"
      ]
     },
     "execution_count": 5,
     "metadata": {},
     "output_type": "execute_result"
    }
   ],
   "source": [
    "# available items\n",
    "set(FAO_sec.ItemName)"
   ]
  },
  {
   "cell_type": "code",
   "execution_count": 22,
   "metadata": {
    "collapsed": false
   },
   "outputs": [
    {
     "data": {
      "text/html": [
       "<div>\n",
       "<table border=\"1\" class=\"dataframe\">\n",
       "  <thead>\n",
       "    <tr style=\"text-align: right;\">\n",
       "      <th></th>\n",
       "      <th>﻿Domain Code</th>\n",
       "      <th>Domain</th>\n",
       "      <th>AreaCode</th>\n",
       "      <th>AreaName</th>\n",
       "      <th>ElementCode</th>\n",
       "      <th>ElementName</th>\n",
       "      <th>ItemCode</th>\n",
       "      <th>ItemName</th>\n",
       "      <th>Year</th>\n",
       "      <th>Value</th>\n",
       "      <th>Flag</th>\n",
       "      <th>FlagD</th>\n",
       "    </tr>\n",
       "  </thead>\n",
       "  <tbody>\n",
       "    <tr>\n",
       "      <th>572</th>\n",
       "      <td>FS</td>\n",
       "      <td>Suite of Food Security Indicators</td>\n",
       "      <td>249</td>\n",
       "      <td>Yemen</td>\n",
       "      <td>6123</td>\n",
       "      <td>Value</td>\n",
       "      <td>21013</td>\n",
       "      <td>Average protein supply (g/capita/day) (3-year ...</td>\n",
       "      <td>2004-2006</td>\n",
       "      <td>56</td>\n",
       "      <td>NaN</td>\n",
       "      <td>Official data</td>\n",
       "    </tr>\n",
       "    <tr>\n",
       "      <th>573</th>\n",
       "      <td>FS</td>\n",
       "      <td>Suite of Food Security Indicators</td>\n",
       "      <td>249</td>\n",
       "      <td>Yemen</td>\n",
       "      <td>6123</td>\n",
       "      <td>Value</td>\n",
       "      <td>21013</td>\n",
       "      <td>Average protein supply (g/capita/day) (3-year ...</td>\n",
       "      <td>2005-2007</td>\n",
       "      <td>56</td>\n",
       "      <td>NaN</td>\n",
       "      <td>Official data</td>\n",
       "    </tr>\n",
       "    <tr>\n",
       "      <th>574</th>\n",
       "      <td>FS</td>\n",
       "      <td>Suite of Food Security Indicators</td>\n",
       "      <td>249</td>\n",
       "      <td>Yemen</td>\n",
       "      <td>6123</td>\n",
       "      <td>Value</td>\n",
       "      <td>21013</td>\n",
       "      <td>Average protein supply (g/capita/day) (3-year ...</td>\n",
       "      <td>2006-2008</td>\n",
       "      <td>56</td>\n",
       "      <td>NaN</td>\n",
       "      <td>Official data</td>\n",
       "    </tr>\n",
       "    <tr>\n",
       "      <th>575</th>\n",
       "      <td>FS</td>\n",
       "      <td>Suite of Food Security Indicators</td>\n",
       "      <td>249</td>\n",
       "      <td>Yemen</td>\n",
       "      <td>6123</td>\n",
       "      <td>Value</td>\n",
       "      <td>21013</td>\n",
       "      <td>Average protein supply (g/capita/day) (3-year ...</td>\n",
       "      <td>2007-2009</td>\n",
       "      <td>57</td>\n",
       "      <td>NaN</td>\n",
       "      <td>Official data</td>\n",
       "    </tr>\n",
       "    <tr>\n",
       "      <th>576</th>\n",
       "      <td>FS</td>\n",
       "      <td>Suite of Food Security Indicators</td>\n",
       "      <td>249</td>\n",
       "      <td>Yemen</td>\n",
       "      <td>6123</td>\n",
       "      <td>Value</td>\n",
       "      <td>21013</td>\n",
       "      <td>Average protein supply (g/capita/day) (3-year ...</td>\n",
       "      <td>2008-2010</td>\n",
       "      <td>58</td>\n",
       "      <td>NaN</td>\n",
       "      <td>Official data</td>\n",
       "    </tr>\n",
       "  </tbody>\n",
       "</table>\n",
       "</div>"
      ],
      "text/plain": [
       "    ﻿Domain Code                             Domain  AreaCode AreaName  \\\n",
       "572           FS  Suite of Food Security Indicators       249    Yemen   \n",
       "573           FS  Suite of Food Security Indicators       249    Yemen   \n",
       "574           FS  Suite of Food Security Indicators       249    Yemen   \n",
       "575           FS  Suite of Food Security Indicators       249    Yemen   \n",
       "576           FS  Suite of Food Security Indicators       249    Yemen   \n",
       "\n",
       "     ElementCode ElementName  ItemCode  \\\n",
       "572         6123       Value     21013   \n",
       "573         6123       Value     21013   \n",
       "574         6123       Value     21013   \n",
       "575         6123       Value     21013   \n",
       "576         6123       Value     21013   \n",
       "\n",
       "                                              ItemName       Year  Value  \\\n",
       "572  Average protein supply (g/capita/day) (3-year ...  2004-2006     56   \n",
       "573  Average protein supply (g/capita/day) (3-year ...  2005-2007     56   \n",
       "574  Average protein supply (g/capita/day) (3-year ...  2006-2008     56   \n",
       "575  Average protein supply (g/capita/day) (3-year ...  2007-2009     57   \n",
       "576  Average protein supply (g/capita/day) (3-year ...  2008-2010     58   \n",
       "\n",
       "     Flag          FlagD  \n",
       "572   NaN  Official data  \n",
       "573   NaN  Official data  \n",
       "574   NaN  Official data  \n",
       "575   NaN  Official data  \n",
       "576   NaN  Official data  "
      ]
     },
     "execution_count": 22,
     "metadata": {},
     "output_type": "execute_result"
    }
   ],
   "source": [
    "FAO_sec[(FAO_sec.ItemName == 'Average protein supply (g/capita/day) (3-year average)') & (FAO_sec.AreaName == 'Yemen')].head(5)"
   ]
  },
  {
   "cell_type": "markdown",
   "metadata": {},
   "source": [
    "# Livestock\n",
    "\n",
    "Download CSV from http://faostat3.fao.org/download/Q/QL/E"
   ]
  },
  {
   "cell_type": "code",
   "execution_count": 25,
   "metadata": {
    "collapsed": false
   },
   "outputs": [
    {
     "data": {
      "text/html": [
       "<div>\n",
       "<table border=\"1\" class=\"dataframe\">\n",
       "  <thead>\n",
       "    <tr style=\"text-align: right;\">\n",
       "      <th></th>\n",
       "      <th>﻿Domain Code</th>\n",
       "      <th>Domain</th>\n",
       "      <th>AreaCode</th>\n",
       "      <th>AreaName</th>\n",
       "      <th>ElementCode</th>\n",
       "      <th>ElementName</th>\n",
       "      <th>ItemCode</th>\n",
       "      <th>ItemName</th>\n",
       "      <th>Year</th>\n",
       "      <th>Value</th>\n",
       "      <th>Flag</th>\n",
       "      <th>FlagD</th>\n",
       "    </tr>\n",
       "  </thead>\n",
       "  <tbody>\n",
       "    <tr>\n",
       "      <th>0</th>\n",
       "      <td>QL</td>\n",
       "      <td>Livestock Primary</td>\n",
       "      <td>197</td>\n",
       "      <td>Sierra Leone</td>\n",
       "      <td>5313</td>\n",
       "      <td>Laying</td>\n",
       "      <td>1062</td>\n",
       "      <td>Eggs, hen, in shell</td>\n",
       "      <td>1961</td>\n",
       "      <td>950</td>\n",
       "      <td>F</td>\n",
       "      <td>FAO estimate</td>\n",
       "    </tr>\n",
       "    <tr>\n",
       "      <th>1</th>\n",
       "      <td>QL</td>\n",
       "      <td>Livestock Primary</td>\n",
       "      <td>197</td>\n",
       "      <td>Sierra Leone</td>\n",
       "      <td>5313</td>\n",
       "      <td>Laying</td>\n",
       "      <td>1062</td>\n",
       "      <td>Eggs, hen, in shell</td>\n",
       "      <td>1962</td>\n",
       "      <td>1000</td>\n",
       "      <td>F</td>\n",
       "      <td>FAO estimate</td>\n",
       "    </tr>\n",
       "  </tbody>\n",
       "</table>\n",
       "</div>"
      ],
      "text/plain": [
       "  ﻿Domain Code             Domain  AreaCode      AreaName  ElementCode  \\\n",
       "0           QL  Livestock Primary       197  Sierra Leone         5313   \n",
       "1           QL  Livestock Primary       197  Sierra Leone         5313   \n",
       "\n",
       "  ElementName  ItemCode             ItemName  Year  Value Flag         FlagD  \n",
       "0      Laying      1062  Eggs, hen, in shell  1961    950    F  FAO estimate  \n",
       "1      Laying      1062  Eggs, hen, in shell  1962   1000    F  FAO estimate  "
      ]
     },
     "execution_count": 25,
     "metadata": {},
     "output_type": "execute_result"
    }
   ],
   "source": [
    "FAO_liv=pd.read_csv('data/livestock_data.csv')\n",
    "FAO_liv.head(2)"
   ]
  },
  {
   "cell_type": "code",
   "execution_count": 51,
   "metadata": {
    "collapsed": false
   },
   "outputs": [
    {
     "data": {
      "text/plain": [
       "[nan,\n",
       " 'Meat, duck',\n",
       " 'Skins, sheep, fresh',\n",
       " 'Meat indigenous, cattle',\n",
       " 'Meat, pig',\n",
       " 'Meat, sheep',\n",
       " 'Meat, Poultry',\n",
       " 'Meat indigenous, goat',\n",
       " 'Meat indigenous, duck',\n",
       " 'Meat, goat',\n",
       " 'Meat indigenous, total',\n",
       " 'Beeswax',\n",
       " 'Meat indigenous, sheep',\n",
       " 'Meat, game',\n",
       " 'Milk, whole fresh camel',\n",
       " 'Meat indigenous, camel',\n",
       " 'Hides, cattle, fresh',\n",
       " 'Eggs, hen, in shell',\n",
       " 'Milk, whole fresh sheep',\n",
       " 'Meat, Total',\n",
       " 'Milk,Total',\n",
       " 'Meat indigenous, poultry',\n",
       " 'Skins, sheep, with wool',\n",
       " 'Skins, goat, fresh',\n",
       " 'Meat, cattle',\n",
       " 'Eggs, other bird, in shell (number)',\n",
       " 'Honey, natural',\n",
       " 'Meat indigenous, cattle and buffalo',\n",
       " 'Meat indigenous, sheep and goat',\n",
       " 'Meat indigenous, rabbit',\n",
       " 'Milk, whole fresh cow',\n",
       " 'Wool, greasy',\n",
       " 'Sheep and Goat Meat',\n",
       " 'Eggs, hen, in shell (number)',\n",
       " 'Meat indigenous, pig',\n",
       " 'Eggs Primary',\n",
       " 'Milk, whole fresh goat',\n",
       " 'Beef and Buffalo Meat',\n",
       " 'Meat indigenous, chicken',\n",
       " 'Eggs, other bird, in shell',\n",
       " 'Meat, camel',\n",
       " 'Meat, chicken',\n",
       " 'Meat, rabbit']"
      ]
     },
     "execution_count": 51,
     "metadata": {},
     "output_type": "execute_result"
    }
   ],
   "source": [
    "# available items\n",
    "set(FAO_liv.ItemName)"
   ]
  },
  {
   "cell_type": "code",
   "execution_count": 49,
   "metadata": {
    "collapsed": false
   },
   "outputs": [
    {
     "data": {
      "text/plain": [
       "<matplotlib.text.Text at 0x10e4a2b10>"
      ]
     },
     "execution_count": 49,
     "metadata": {},
     "output_type": "execute_result"
    },
    {
     "data": {
      "image/png": "[encoded data removed]",
      "text/plain": [
       "<matplotlib.figure.Figure at 0x10dd74f50>"
      ]
     },
     "metadata": {},
     "output_type": "display_data"
    }
   ],
   "source": [
    "# Plot evolution country (data year by year)\n",
    "AreaName='Yemen'\n",
    "ItemName='Meat, Total'\n",
    "\n",
    "values=FAO_liv[(FAO_liv.ItemName == ItemName) & (FAO_liv.AreaName == AreaName) & (FAO_liv.ElementName =='Production')].Value\n",
    "year=FAO_liv[(FAO_liv.ItemName == ItemName) & (FAO_liv.AreaName == AreaName) & (FAO_liv.ElementName =='Production')].Year\n",
    "\n",
    "plt.plot(year,values)\n",
    "plt.xlabel('Year')\n",
    "plt.ylabel(ItemName)\n",
    "plt.title(AreaName)"
   ]
  },
  {
   "cell_type": "code",
   "execution_count": null,
   "metadata": {
    "collapsed": true
   },
   "outputs": [],
   "source": []
  }
 ],
 "metadata": {
  "kernelspec": {
   "display_name": "Python 2",
   "language": "python",
   "name": "python2"
  },
  "language_info": {
   "codemirror_mode": {
    "name": "ipython",
    "version": 2
   },
   "file_extension": ".py",
   "mimetype": "text/x-python",
   "name": "python",
   "nbconvert_exporter": "python",
   "pygments_lexer": "ipython2",
   "version": "2.7.10"
  }
 },
 "nbformat": 4,
 "nbformat_minor": 0
}
